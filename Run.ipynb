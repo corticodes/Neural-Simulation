{
 "cells": [
  {
   "cell_type": "code",
   "execution_count": 79,
   "metadata": {
    "pycharm": {
     "name": "#%%\n"
    }
   },
   "outputs": [],
   "source": [
    "from matplotlib import pyplot as plt\n",
    "import numpy as np\n",
    "import time\n",
    "import sys\n",
    "import pandas as pd\n",
    "import seaborn as sns\n",
    "\n",
    "sys.path.append(\"../PycharmProjects/pythonProject\")\n",
    "import NetworkClass\n",
    "from imp import reload\n",
    "reload(NetworkClass)\n",
    "from NetworkClass import Network"
   ]
  },
  {
   "cell_type": "code",
   "execution_count": 93,
   "metadata": {
    "pycharm": {
     "name": "#%% Run with two cluster inputs\n"
    }
   },
   "outputs": [],
   "source": [
    "#Parameters (see class for documentation)\n",
    "\n",
    "\n",
    "length = 40000\n",
    "\n",
    "dim = (1,10,10)\n",
    "input_num = 10\n",
    "Clusters = 2\n",
    "dt = 0.05\n",
    "\n",
    "V_syn={(1, 1): 60, (1, 0): -70, (0, 1): 60, (0, 0): -70} # Synapses stregnth (EE,EI,IE,II)\n",
    "#connect_const = {(1, 1): 0.4, (1, 0): 0.4, (0, 1): 0.3,(0, 0): 0.1} # Probability of connection between two neurons within class (EE,EI,IE,II)\n",
    "#connect_const = {(1, 1): 0.6, (1, 0): 0.4, (0, 1): 0.3,(0, 0): 0.1} #(EE,EI,IE,II)\n",
    "connect_const = {(1, 1): 0.9, (1, 0): 0.2, (0, 1): 0.4,(0, 0): 0.1} #(EE,EI,IE,II)\n",
    "cluster_pr = 0.0 # Connection probability between neurons in cluster 1 and 2 (used to be 0.1)\n",
    "\n",
    "net = Network(dim=dim,model='SFA',clusters=2,lamb=2.2,inh_frac=0.2,dt=dt,R=0.2,tau=40,Vreset=5,Vr=-70,Vth=-40,alpha=0.05,tauN=80,gk=20,Vk=-88,J=4,tauRise=.8,tauDec=5.8,V_syn=V_syn,tau_psc=(6,3),connect_const=connect_const, input_num=input_num,cluster_pr=cluster_pr)\n"
   ]
  },
  {
   "cell_type": "code",
   "execution_count": 94,
   "outputs": [
    {
     "data": {
      "text/plain": "<Figure size 432x288 with 1 Axes>",
      "image/png": "[encoded data removed]"
     },
     "metadata": {
      "needs_background": "light"
     },
     "output_type": "display_data"
    }
   ],
   "source": [
    "input_spikes_c1=net.generate_spiketrain(length*dt,dt,20/1000,input_num,True,t_start=0,t_end=length//2)\n",
    "input_spikes_c2=net.generate_spiketrain(length*dt,dt,20/1000,input_num,True,t_start=length//2,t_end=length)\n"
   ],
   "metadata": {
    "collapsed": false,
    "pycharm": {
     "name": "#%% random input\n"
    }
   }
  },
  {
   "cell_type": "code",
   "execution_count": 97,
   "outputs": [
    {
     "data": {
      "text/plain": "<Figure size 432x288 with 1 Axes>",
      "image/png": "[encoded data removed]"
     },
     "metadata": {
      "needs_background": "light"
     },
     "output_type": "display_data"
    }
   ],
   "source": [
    "t_clust1_start=100/dt #start input to first cluster at 100ms\n",
    "t_clust1_end=250/dt\n",
    "\n",
    "t_clust2_start=300/dt #start input to first cluster at 100ms\n",
    "t_clust2_end=450/dt\n",
    "\n",
    "f=1/dt #this gives spiking prob of 1 (See generate_spiketrain)\n",
    "input_spikes_c1=net.generate_spiketrain(length*dt,dt,f,input_num,True,t_start=t_clust1_start,t_end=t_clust1_end)\n",
    "input_spikes_c2=net.generate_spiketrain(length*dt,dt,f,input_num,True,t_start=t_clust2_start,t_end=t_clust2_end)"
   ],
   "metadata": {
    "collapsed": false,
    "pycharm": {
     "name": "#%% Intense localized inputs\n"
    }
   }
  },
  {
   "cell_type": "code",
   "execution_count": 98,
   "outputs": [
    {
     "data": {
      "text/plain": "<Figure size 432x288 with 1 Axes>",
      "image/png": "[encoded data removed]"
     },
     "metadata": {},
     "output_type": "display_data"
    }
   ],
   "source": [
    "input_spikes = np.concatenate((input_spikes_c1,input_spikes_c2),axis=1)\n",
    "\n",
    "net.run_model(input_spikes,input_type=1)\n",
    "\n",
    "fig=net.plot_spikes();\n"
   ],
   "metadata": {
    "collapsed": false,
    "pycharm": {
     "name": "#%%\n"
    }
   }
  },
  {
   "cell_type": "code",
   "execution_count": 46,
   "metadata": {},
   "outputs": [
    {
     "data": {
      "text/plain": "1860.0"
     },
     "execution_count": 46,
     "metadata": {},
     "output_type": "execute_result"
    }
   ],
   "source": [
    "net.input_connections[100:,:].sum()\n"
   ]
  },
  {
   "cell_type": "code",
   "execution_count": null,
   "metadata": {
    "pycharm": {
     "name": "#%%\n"
    }
   },
   "outputs": [],
   "source": [
    "net.plot_neuron(120)\n"
   ]
  },
  {
   "cell_type": "code",
   "execution_count": null,
   "metadata": {
    "pycharm": {
     "name": "#%%\n"
    }
   },
   "outputs": [],
   "source": [
    "#print(net.connections)\n",
    "net.plot_network();"
   ]
  },
  {
   "cell_type": "code",
   "execution_count": 31,
   "metadata": {
    "pycharm": {
     "name": "#%%\n"
    }
   },
   "outputs": [
    {
     "name": "stdout",
     "output_type": "stream",
     "text": [
      "0\n",
      "1\n",
      "2\n",
      "3\n",
      "4\n",
      "5\n",
      "6\n",
      "7\n",
      "8\n",
      "9\n",
      "10\n",
      "11\n",
      "12\n",
      "13\n",
      "14\n",
      "15\n",
      "16\n",
      "17\n",
      "18\n",
      "19\n",
      "20\n",
      "21\n",
      "22\n",
      "23\n",
      "24\n",
      "25\n",
      "26\n",
      "27\n",
      "28\n",
      "29\n",
      "30\n",
      "31\n",
      "32\n",
      "33\n",
      "34\n",
      "35\n",
      "36\n",
      "37\n",
      "38\n",
      "39\n",
      "40\n",
      "41\n",
      "42\n",
      "43\n",
      "44\n",
      "45\n",
      "46\n",
      "47\n",
      "48\n",
      "49\n",
      "50\n",
      "51\n",
      "52\n",
      "53\n",
      "54\n",
      "55\n",
      "56\n",
      "57\n",
      "58\n",
      "59\n",
      "60\n",
      "61\n",
      "62\n",
      "63\n",
      "64\n",
      "65\n",
      "66\n",
      "67\n",
      "68\n",
      "69\n",
      "70\n",
      "71\n",
      "72\n",
      "73\n",
      "74\n",
      "75\n",
      "76\n",
      "77\n",
      "78\n",
      "79\n",
      "80\n",
      "81\n",
      "82\n",
      "83\n",
      "84\n",
      "85\n",
      "86\n",
      "87\n",
      "88\n",
      "89\n",
      "90\n",
      "91\n",
      "92\n",
      "93\n",
      "94\n",
      "95\n",
      "96\n",
      "97\n",
      "98\n",
      "99\n",
      "100\n",
      "101\n",
      "102\n",
      "103\n",
      "104\n",
      "105\n",
      "106\n",
      "107\n",
      "108\n",
      "109\n",
      "110\n",
      "111\n",
      "112\n",
      "113\n",
      "114\n",
      "115\n",
      "116\n",
      "117\n",
      "118\n",
      "119\n",
      "120\n",
      "121\n",
      "122\n",
      "123\n",
      "124\n",
      "125\n",
      "126\n",
      "127\n",
      "128\n",
      "129\n",
      "130\n",
      "131\n",
      "132\n",
      "133\n",
      "134\n",
      "135\n",
      "136\n",
      "137\n",
      "138\n",
      "139\n",
      "140\n",
      "141\n",
      "142\n",
      "143\n",
      "144\n",
      "145\n",
      "146\n",
      "147\n",
      "148\n",
      "149\n",
      "150\n",
      "151\n",
      "152\n",
      "153\n",
      "154\n",
      "155\n",
      "156\n",
      "157\n",
      "158\n",
      "159\n",
      "160\n",
      "161\n",
      "162\n",
      "163\n",
      "164\n",
      "165\n",
      "166\n",
      "167\n",
      "168\n",
      "169\n",
      "170\n",
      "171\n",
      "172\n",
      "173\n",
      "174\n",
      "175\n",
      "176\n",
      "177\n",
      "178\n",
      "179\n",
      "180\n",
      "181\n",
      "182\n",
      "183\n",
      "184\n",
      "185\n",
      "186\n",
      "187\n",
      "188\n",
      "189\n",
      "190\n",
      "191\n",
      "192\n",
      "193\n",
      "194\n",
      "195\n",
      "196\n",
      "197\n",
      "198\n",
      "199\n"
     ]
    }
   ],
   "source": [
    "#Calculate LFP\n",
    "\n",
    "rows = np.arange(0,10)\n",
    "cols = np.arange(0,20)\n",
    "\n",
    "#times = np.arange(15000,35000,10)\n",
    "times = np.arange(0,40000,10)\n",
    "phis = np.zeros((rows.shape[0]*cols.shape[0],times.shape[0]))\n",
    "\n",
    "count=0\n",
    "for i in rows:\n",
    "\n",
    "    for j in cols:\n",
    "        print(j+i*20)\n",
    "        z, x, y = net.get_pos(j+i*20)\n",
    "        r = net.get_r(x, y)\n",
    "        phis[count,:] = net.get_phi(net.EPSC_seq,r,times,0.003,net.dim)\n",
    "        count+=1"
   ]
  },
  {
   "cell_type": "code",
   "execution_count": null,
   "metadata": {
    "pycharm": {
     "name": "#%%\n"
    }
   },
   "outputs": [],
   "source": [
    "saveDir='/media/sil2/Literature/Projects/corplex/progress reports/meetings/next/Simulation/'\n",
    "#np.savetxt(saveDir+'Spikes.txt',net.spikes_seq)\n",
    "np.savetxt(saveDir+'lfp.txt',phis)\n",
    "\n"
   ]
  },
  {
   "cell_type": "code",
   "execution_count": null,
   "metadata": {
    "pycharm": {
     "name": "#%% loop through everything for different varaibles\n"
    }
   },
   "outputs": [],
   "source": [
    "\n",
    "saveDir='/media/sil2/Literature/Projects/corplex/progress reports/meetings/next/Simulation/simulation outputs/'\n",
    "\n",
    "#Simulation Parameters (see class for documentation)\n",
    "\n",
    "length = 40000\n",
    "\n",
    "dim = (1,10,10)\n",
    "input_num = 10\n",
    "Clusters = 2\n",
    "dt = 0.05\n",
    "\n",
    "runs_per_param_comb=5\n",
    "\n",
    "#connectivity and weights parameters\n",
    "V_syn={(1, 1): 60, (1, 0): -70, (0, 1): 60, (0, 0): -70} # Synapses stregnth (EE,EI,IE,II)\n",
    "#connect_const = {(1, 1): 0.4, (1, 0): 0.4, (0, 1): 0.3,(0, 0): 0.1} # Probability of connection between two neurons within class (EE,EI,IE,II)\n",
    "connect_consts = [ #(EE,EI,IE,II)\n",
    "                    {(1, 1): 0.4, (1, 0): 0.4, (0, 1): 0.3,(0, 0): 0.1},\n",
    "                    {(1, 1): 0.6, (1, 0): 0.4, (0, 1): 0.3,(0, 0): 0.1},\n",
    "                    {(1, 1): 0.6, (1, 0): 0.6, (0, 1): 0.4,(0, 0): 0.1},\n",
    "                    {(1, 1): 0.6, (1, 0): 0.8, (0, 1): 0.4,(0, 0): 0.1},\n",
    "                    {(1, 1): 0.6, (1, 0): 0.8, (0, 1): 0.8,(0, 0): 0.1},\n",
    "                    {(1, 1): 0.6, (1, 0): 0.4, (0, 1): 0.8,(0, 0): 0.1},\n",
    "                    {(1, 1): 0.4, (1, 0): 0.8, (0, 1): 0.8,(0, 0): 0.1},\n",
    "                    {(1, 1): 0.4, (1, 0): 0.4, (0, 1): 0.8,(0, 0): 0.1},\n",
    "                ]\n",
    "cluster_prs = [0.005, 0.01,0.03,0.07,0.1] # Connection probability between neurons in cluster 1 and 2 (used to be 0.1)\n",
    "\n",
    "run_num=0\n",
    "for connect_const in connect_consts:\n",
    "    for cluster_pr in cluster_prs:\n",
    "        for i in range(runs_per_param_comb):\n",
    "            run_num += 1\n",
    "            print('Run Number '+str(run_num))\n",
    "            net = Network(dim=dim,model='SFA',clusters=2,lamb=2.2,inh_frac=0.2,dt=dt,R=0.2,tau=40,Vreset=5,Vr=-70,Vth=-40,alpha=0.05,tauN=80,gk=20,Vk=-88,J=4,tauRise=.8,tauDec=5.8,V_syn=V_syn,tau_psc=(6,3),connect_const=connect_const, input_num=input_num,cluster_pr=cluster_pr)\n",
    "            input_spikes=net.generate_spiketrain(length*dt,dt,20/1000,input_num,False)\n",
    "            net.run_model(input_spikes,input_type=1)\n",
    "\n",
    "            #Calculate LFP\n",
    "            rows = np.arange(0,10)\n",
    "            cols = np.arange(0,20)\n",
    "\n",
    "            times = np.arange(0,40000,10)\n",
    "            phis = np.zeros((rows.shape[0]*cols.shape[0],times.shape[0]))\n",
    "\n",
    "            count=0\n",
    "            for row in rows:\n",
    "                for col in cols:\n",
    "                    #print(col+row*20)\n",
    "                    z, x, y = net.get_pos(col+row*20)\n",
    "                    r = net.get_r(x, y)\n",
    "                    phis[count,:] = net.get_phi(net.EPSC_seq,r,times,0.003,net.dim)\n",
    "                    count+=1\n",
    "            #export network output\n",
    "            np.savetxt(saveDir+'Spikes '+str(run_num)+'.txt',net.spikes_seq,header='V_syns '+str(V_syn)+' connect_const '+str(connect_const)+' cluster_pr '+str(cluster_pr))\n",
    "            np.savetxt(saveDir+'lfp'+str(run_num)+'.txt',phis,header='V_syns '+str(V_syn)+' connect_const '+str(connect_const)+' cluster_pr '+str(cluster_pr))"
   ]
  },
  {
   "cell_type": "code",
   "execution_count": null,
   "outputs": [],
   "source": [
    "saveDir='/media/sil2/Literature/Projects/corplex/progress reports/meetings/next/Simulation/working combos/simulation outputs/'\n",
    "\n",
    "#Simulation Parameters (see class for documentation)\n",
    "\n",
    "length = 40000\n",
    "\n",
    "dim = (1,10,10)\n",
    "input_num = 10\n",
    "Clusters = 2\n",
    "dt = 0.05\n",
    "\n",
    "runs_per_param_comb=1\n",
    "\n",
    "#connectivity and weights parameters\n",
    "V_syn={(1, 1): 60, (1, 0): -70, (0, 1): 60, (0, 0): -70} # Synapses stregnth (EE,EI,IE,II)\n",
    "\n",
    "#connect_consts=[{(1, 1): 0.6, (1, 0): 0.5, (0, 1): 0.4, (0, 0): 0.1}, {(1, 1): 0.6, (1, 0): 0.4, (0, 1): 0.3, (0, 0): 0.1} ]\n",
    "connect_consts=[{(1, 1): 0.6, (1, 0): 0.5, (0, 1): 0.4, (0, 0): 0.1}]\n",
    "#cluster_prs=[0.03, 0.7]\n",
    "cluster_prs=[0.03]\n",
    "\n",
    "for combo_num in range(len(connect_consts)):\n",
    "    run_num=0\n",
    "    connect_const = connect_consts[combo_num]\n",
    "    cluster_pr = cluster_prs[combo_num]\n",
    "    for i in range(runs_per_param_comb):\n",
    "        run_num += 1\n",
    "        print('Combo Num '+str(combo_num)+' Run Number '+str(run_num))\n",
    "        net = Network(dim=dim,model='SFA',clusters=2,lamb=2.2,inh_frac=0.2,dt=dt,R=0.2,tau=40,Vreset=5,Vr=-70,Vth=-40,alpha=0.05,tauN=80,gk=20,Vk=-88,J=4,tauRise=.8,tauDec=5.8,V_syn=V_syn,tau_psc=(6,3),connect_const=connect_const, input_num=input_num,cluster_pr=cluster_pr)\n",
    "        input_spikes=net.generate_spiketrain(length*dt,dt,20/1000,input_num,False)\n",
    "        net.run_model(input_spikes,input_type=1)\n",
    "\n",
    "        #Calculate LFP\n",
    "        rows = np.arange(0,10)\n",
    "        cols = np.arange(0,20)\n",
    "\n",
    "        times = np.arange(0,40000,1)\n",
    "        phis = np.zeros((rows.shape[0]*cols.shape[0],times.shape[0]))\n",
    "\n",
    "        count=0\n",
    "        for row in rows:\n",
    "            for col in cols:\n",
    "                #print(col+row*20)\n",
    "                z, x, y = net.get_pos(col+row*20)\n",
    "                r = net.get_r(x, y)\n",
    "                phis[count,:] = net.get_phi(net.EPSC_seq,r,times,0.003,net.dim)\n",
    "                count+=1"
   ],
   "metadata": {
    "collapsed": false,
    "pycharm": {
     "name": "#%% loop through varaibles combos that worked\n"
    }
   }
  },
  {
   "cell_type": "code",
   "execution_count": null,
   "outputs": [],
   "source": [
    "        #export network output\n",
    "        np.savetxt(saveDir+'Spikes Combo Num '+str(combo_num)+' Run Num '+str(run_num)+'.txt',net.spikes_seq,header='V_syns '+str(V_syn)+' connect_const '+str(connect_const)+' cluster_pr '+str(cluster_pr))\n",
    "        np.savetxt(saveDir+'lfp Combo Num '+str(combo_num)+' Run Num '+str(run_num)+'.txt',phis,header='V_syns '+str(V_syn)+' connect_const '+str(connect_const)+' cluster_pr '+str(cluster_pr))"
   ],
   "metadata": {
    "collapsed": false,
    "pycharm": {
     "name": "#%%\n"
    }
   }
  }
 ],
 "metadata": {
  "kernelspec": {
   "display_name": "Python 3",
   "language": "python",
   "name": "python3"
  },
  "language_info": {
   "codemirror_mode": {
    "name": "ipython",
    "version": 3
   },
   "file_extension": ".py",
   "mimetype": "text/x-python",
   "name": "python",
   "nbconvert_exporter": "python",
   "pygments_lexer": "ipython3",
   "version": "3.7.10"
  },
  "varInspector": {
   "cols": {
    "lenName": 16,
    "lenType": 16,
    "lenVar": 40
   },
   "kernels_config": {
    "python": {
     "delete_cmd_postfix": "",
     "delete_cmd_prefix": "del ",
     "library": "var_list.py",
     "varRefreshCmd": "print(var_dic_list())"
    },
    "r": {
     "delete_cmd_postfix": ") ",
     "delete_cmd_prefix": "rm(",
     "library": "var_list.r",
     "varRefreshCmd": "cat(var_dic_list()) "
    }
   },
   "types_to_exclude": [
    "module",
    "function",
    "builtin_function_or_method",
    "instance",
    "_Feature"
   ],
   "window_display": false
  }
 },
 "nbformat": 4,
 "nbformat_minor": 1
}