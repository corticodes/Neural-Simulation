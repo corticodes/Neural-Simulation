{
 "cells": [
  {
   "cell_type": "code",
   "execution_count": null,
   "outputs": [],
   "source": [
    "from matplotlib import pyplot as plt\n",
    "import numpy as np\n",
    "import time\n",
    "import sys\n",
    "import pandas as pd\n",
    "import seaborn as sns\n",
    "\n",
    "sys.path.append(\"../PycharmProjects/pythonProject\")\n",
    "import NetworkClass\n",
    "from imp import reload\n",
    "reload(NetworkClass)\n",
    "from NetworkClass import Network"
   ],
   "metadata": {
    "collapsed": false,
    "pycharm": {
     "name": "#%%\n"
    }
   }
  },
  {
   "cell_type": "code",
   "execution_count": null,
   "outputs": [],
   "source": [
    "#Parameters (see class for documentation)\n",
    "\n",
    "length = 40000\n",
    "\n",
    "dim = (1,10,10)\n",
    "input_num = 10\n",
    "Clusters = 2\n",
    "dt = 0.05\n",
    "\n",
    "V_syn={(1, 1): 60, (1, 0): -70, (0, 1): 60, (0, 0): -70} # Synapses stregnth (EE,EI,IE,II)\n",
    "#connect_const = {(1, 1): 0.4, (1, 0): 0.4, (0, 1): 0.3,(0, 0): 0.1} # Probability of connection between two neurons within class (EE,EI,IE,II)\n",
    "connect_const = {(1, 1): 0.6, (1, 0): 0.4, (0, 1): 0.3,(0, 0): 0.1} #(EE,EI,IE,II)\n",
    "cluster_pr = 0.03 # Connection probability between neurons in cluster 1 and 2 (used to be 0.1)\n",
    "\n",
    "net = Network(dim=dim,model='SFA',clusters=2,lamb=2.2,inh_frac=0.2,dt=dt,R=0.2,tau=40,Vreset=5,Vr=-70,Vth=-40,alpha=0.05,tauN=80,gk=20,Vk=-88,J=4,tauRise=.8,tauDec=5.8,V_syn=V_syn,tau_psc=(6,3),connect_const=connect_const, input_num=input_num,cluster_pr=cluster_pr)\n",
    "\n",
    "\n",
    "input_spikes=net.generate_spiketrain(length*dt,dt,20/1000,input_num,False)\n",
    "\n",
    "net.run_model(input_spikes,input_type=1)\n"
   ],
   "metadata": {
    "collapsed": false,
    "pycharm": {
     "name": "#%%\n"
    }
   }
  },
  {
   "cell_type": "code",
   "execution_count": null,
   "outputs": [],
   "source": [
    "fig=net.plot_spikes();"
   ],
   "metadata": {
    "collapsed": false,
    "pycharm": {
     "name": "#%%\n"
    }
   }
  },
  {
   "cell_type": "code",
   "execution_count": null,
   "outputs": [],
   "source": [
    "net.plot_neuron(51)\n"
   ],
   "metadata": {
    "collapsed": false,
    "pycharm": {
     "name": "#%%\n"
    }
   }
  },
  {
   "cell_type": "code",
   "execution_count": null,
   "outputs": [],
   "source": [
    "#print(net.connections)\n",
    "net.plot_network();"
   ],
   "metadata": {
    "collapsed": false,
    "pycharm": {
     "name": "#%%\n"
    }
   }
  },
  {
   "cell_type": "code",
   "execution_count": null,
   "outputs": [],
   "source": [
    "#Calculate LFP\n",
    "\n",
    "rows = np.arange(0,10)\n",
    "cols = np.arange(0,20)\n",
    "\n",
    "times = np.arange(15000,35000,10)\n",
    "phis = np.zeros((rows.shape[0]*cols.shape[0],times.shape[0]))\n",
    "\n",
    "size(phis)"
   ],
   "metadata": {
    "collapsed": false,
    "pycharm": {
     "name": "#%%\n"
    }
   }
  },
  {
   "cell_type": "code",
   "execution_count": null,
   "outputs": [],
   "source": [
    "count=0\n",
    "for i in rows:\n",
    "\n",
    "    for j in cols:\n",
    "        print(j+i*20)\n",
    "        z, x, y = net.get_pos(j+i*20)\n",
    "        r = net.get_r(x, y)\n",
    "        for k,t in enumerate(net.EPSC_seq[+i*2j0][times]):\n",
    "            phis[count,k] = net.get_phi(net.EPSC_seq,r,times[k],0.003,net.dim)\n",
    "        count+=1"
   ],
   "metadata": {
    "collapsed": false,
    "pycharm": {
     "name": "#%%\n"
    }
   }
  },
  {
   "cell_type": "code",
   "execution_count": null,
   "outputs": [],
   "source": [
    "saveDir='/media/sil2/Literature/Projects/corplex/progress reports/meetings/next/Simulation/'\n",
    "np.savetxt(saveDir+'Spikes.txt',net.spikes_seq)\n",
    "np.savetxt(saveDir+'lfp.txt',phis)\n"
   ],
   "metadata": {
    "collapsed": false,
    "pycharm": {
     "name": "#%%\n"
    }
   }
  }
 ],
 "metadata": {
  "kernelspec": {
   "display_name": "Python 3",
   "language": "python",
   "name": "python3"
  },
  "language_info": {
   "codemirror_mode": {
    "name": "ipython",
    "version": 2
   },
   "file_extension": ".py",
   "mimetype": "text/x-python",
   "name": "python",
   "nbconvert_exporter": "python",
   "pygments_lexer": "ipython2",
   "version": "2.7.6"
  }
 },
 "nbformat": 4,
 "nbformat_minor": 0
}